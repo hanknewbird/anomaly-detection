{
 "cells": [
  {
   "cell_type": "code",
   "execution_count": 1,
   "id": "c84b45f0",
   "metadata": {
    "ExecuteTime": {
     "end_time": "2022-02-18T00:11:00.047169Z",
     "start_time": "2022-02-18T00:11:00.022169Z"
    }
   },
   "outputs": [],
   "source": [
    "import os\n",
    "import shutil"
   ]
  },
  {
   "cell_type": "markdown",
   "id": "534b5c39",
   "metadata": {},
   "source": [
    "# train dataset"
   ]
  },
  {
   "cell_type": "code",
   "execution_count": 2,
   "id": "f99a4116",
   "metadata": {
    "ExecuteTime": {
     "end_time": "2022-02-18T00:11:00.079167Z",
     "start_time": "2022-02-18T00:11:00.051168Z"
    }
   },
   "outputs": [],
   "source": [
    "class_ = \"Class6\"\n",
    "class_number = f\"{class_}/{class_}\"\n",
    "out_put_dir = f\"{class_}_dataset\""
   ]
  },
  {
   "cell_type": "code",
   "execution_count": 3,
   "id": "82ad019c",
   "metadata": {
    "ExecuteTime": {
     "end_time": "2022-02-18T00:11:00.111167Z",
     "start_time": "2022-02-18T00:11:00.083168Z"
    }
   },
   "outputs": [],
   "source": [
    "# 删除Labels.txt文件\n",
    "os.remove(f\"{class_number}/Train/Label/Labels.txt\")\n",
    "os.remove(f\"{class_number}/Test/Label/Labels.txt\")"
   ]
  },
  {
   "cell_type": "code",
   "execution_count": 4,
   "id": "09d48bf9",
   "metadata": {
    "ExecuteTime": {
     "end_time": "2022-02-18T00:11:00.127170Z",
     "start_time": "2022-02-18T00:11:00.114168Z"
    }
   },
   "outputs": [
    {
     "name": "stdout",
     "output_type": "stream",
     "text": [
      "训练集中含有83张图\n"
     ]
    }
   ],
   "source": [
    "# 获取缺陷图片的标记图\n",
    "labels = os.listdir(f\"{class_number}/Train/Label/\")\n",
    "print(f'训练集中含有{len(labels)}张图')"
   ]
  },
  {
   "cell_type": "code",
   "execution_count": 5,
   "id": "444af2b4",
   "metadata": {
    "ExecuteTime": {
     "end_time": "2022-02-18T00:11:00.143189Z",
     "start_time": "2022-02-18T00:11:00.132172Z"
    }
   },
   "outputs": [],
   "source": [
    "# 收集所有缺陷图片的名称\n",
    "labels_name = []\n",
    "for label in labels:\n",
    "    label = label.replace(\"_label\",\"\")\n",
    "    labels_name.append(label)"
   ]
  },
  {
   "cell_type": "code",
   "execution_count": 6,
   "id": "c518b92f",
   "metadata": {
    "ExecuteTime": {
     "end_time": "2022-02-18T00:11:00.175171Z",
     "start_time": "2022-02-18T00:11:00.148169Z"
    }
   },
   "outputs": [
    {
     "name": "stdout",
     "output_type": "stream",
     "text": [
      "Class6_dataset未创建\n",
      "Class6_dataset已自动创建该文件夹\n"
     ]
    }
   ],
   "source": [
    "# 检测文件夹是否创建\n",
    "if os.path.exists(out_put_dir):\n",
    "    print(f\"{out_put_dir}已创建，可以进行下一步操作了\")\n",
    "else:\n",
    "    print(f\"{out_put_dir}未创建\")\n",
    "    # 创建\n",
    "    os.makedirs(f\"{out_put_dir}/train/abnormal/image\")\n",
    "    os.makedirs(f\"{out_put_dir}/train/normal/image\")\n",
    "    \n",
    "    os.makedirs(f\"{out_put_dir}/test/abnormal/image\")\n",
    "    os.makedirs(f\"{out_put_dir}/test/normal/image\")\n",
    "    \n",
    "    print(f\"{out_put_dir}已自动创建该文件夹\")"
   ]
  },
  {
   "cell_type": "code",
   "execution_count": 7,
   "id": "579c377e",
   "metadata": {
    "ExecuteTime": {
     "end_time": "2022-02-18T00:11:00.366168Z",
     "start_time": "2022-02-18T00:11:00.180169Z"
    }
   },
   "outputs": [
    {
     "name": "stdout",
     "output_type": "stream",
     "text": [
      "Class6/Class6瑕疵图片移动成功\n"
     ]
    }
   ],
   "source": [
    "# 在train文件夹中寻找相对应的缺陷图片\n",
    "for label in labels_name:\n",
    "    label_path = os.path.join(f'{class_number}/Train/',label)\n",
    "    flag = os.path.exists(label_path)\n",
    "    if flag !=True:\n",
    "        print(f'{label_path}：{flag}')\n",
    "    else:\n",
    "        # 将所有瑕疵图片分到\n",
    "        target_path = os.path.join(f\"{out_put_dir}/train/abnormal/image\",label)\n",
    "        shutil.move(label_path,target_path)\n",
    "print(f'{class_number}瑕疵图片移动成功')"
   ]
  },
  {
   "cell_type": "code",
   "execution_count": 8,
   "id": "344b5f9a",
   "metadata": {
    "ExecuteTime": {
     "end_time": "2022-02-18T00:11:00.446167Z",
     "start_time": "2022-02-18T00:11:00.370171Z"
    }
   },
   "outputs": [
    {
     "name": "stdout",
     "output_type": "stream",
     "text": [
      "Train/Label文件夹未删除\n",
      "Train/Label文件夹已成功删除\n"
     ]
    }
   ],
   "source": [
    "# 删除Label文件夹\n",
    "if os.path.exists(f\"{class_number}/Train/Label\"):\n",
    "    print(\"Train/Label文件夹未删除\")\n",
    "    shutil.rmtree(f\"{class_number}/Train/Label\")\n",
    "    print(\"Train/Label文件夹已成功删除\")"
   ]
  },
  {
   "cell_type": "code",
   "execution_count": 9,
   "id": "02f51a1c",
   "metadata": {
    "ExecuteTime": {
     "end_time": "2022-02-18T00:11:01.157169Z",
     "start_time": "2022-02-18T00:11:00.450169Z"
    }
   },
   "outputs": [],
   "source": [
    "# 将Train中的所有正常图片移动到指定位置\n",
    "train_normal = os.listdir(f\"{class_number}/Train\")\n",
    "train_normal_target = f\"{out_put_dir}/train/normal/image\"\n",
    "for image_ in train_normal:\n",
    "    label_path = f\"{class_number}/Train/{image_}\"\n",
    "    target_path = os.path.join(train_normal_target,image_)\n",
    "#     print(f\"label_path:{label_path}\")\n",
    "#     print(f\"target_path:{target_path}\")\n",
    "    shutil.move(label_path,target_path)"
   ]
  },
  {
   "cell_type": "markdown",
   "id": "c87959ca",
   "metadata": {},
   "source": [
    "# test dataset"
   ]
  },
  {
   "cell_type": "code",
   "execution_count": 10,
   "id": "8f37960b",
   "metadata": {
    "ExecuteTime": {
     "end_time": "2022-02-18T00:11:01.173172Z",
     "start_time": "2022-02-18T00:11:01.164171Z"
    }
   },
   "outputs": [
    {
     "name": "stdout",
     "output_type": "stream",
     "text": [
      "训练集中含有67张图\n"
     ]
    }
   ],
   "source": [
    "# 获取缺陷图片的标记图\n",
    "labels = os.listdir(f\"{class_number}/Test/Label/\")\n",
    "print(f'训练集中含有{len(labels)}张图')"
   ]
  },
  {
   "cell_type": "code",
   "execution_count": 11,
   "id": "141c7018",
   "metadata": {
    "ExecuteTime": {
     "end_time": "2022-02-18T00:11:01.189168Z",
     "start_time": "2022-02-18T00:11:01.178171Z"
    }
   },
   "outputs": [],
   "source": [
    "# 收集所有缺陷图片的名称\n",
    "labels_name = []\n",
    "for label in labels:\n",
    "    label = label.replace(\"_label\",\"\")\n",
    "    labels_name.append(label)"
   ]
  },
  {
   "cell_type": "code",
   "execution_count": 12,
   "id": "6afc1963",
   "metadata": {
    "ExecuteTime": {
     "end_time": "2022-02-18T00:11:01.380167Z",
     "start_time": "2022-02-18T00:11:01.193170Z"
    }
   },
   "outputs": [],
   "source": [
    "# 在test文件夹中寻找相对应的缺陷图片\n",
    "for label in labels_name:\n",
    "    label_path = os.path.join(f'{class_number}/Test/',label)\n",
    "    flag = os.path.exists(label_path)\n",
    "    if flag !=True:\n",
    "        print(f'{label_path}：{flag}')\n",
    "    else:\n",
    "        # 将所有瑕疵图片分到\n",
    "        target_path = os.path.join(f\"{out_put_dir}/test/abnormal/image\",label)\n",
    "        shutil.move(label_path,target_path)"
   ]
  },
  {
   "cell_type": "code",
   "execution_count": 13,
   "id": "a2a131f4",
   "metadata": {
    "ExecuteTime": {
     "end_time": "2022-02-18T00:11:01.460165Z",
     "start_time": "2022-02-18T00:11:01.384171Z"
    }
   },
   "outputs": [
    {
     "name": "stdout",
     "output_type": "stream",
     "text": [
      "Test/Label文件夹未删除\n",
      "Test/Label文件夹已成功删除\n"
     ]
    }
   ],
   "source": [
    "# 删除Label文件夹\n",
    "if os.path.exists(f\"{class_number}/Test/Label\"):\n",
    "    print(\"Test/Label文件夹未删除\")\n",
    "    shutil.rmtree(f\"{class_number}/Test/Label\")\n",
    "    print(\"Test/Label文件夹已成功删除\")\n",
    "else:\n",
    "    print(\"Test/Label文件夹已成功删除\")"
   ]
  },
  {
   "cell_type": "code",
   "execution_count": 14,
   "id": "de22f614",
   "metadata": {
    "ExecuteTime": {
     "end_time": "2022-02-18T00:11:03.435202Z",
     "start_time": "2022-02-18T00:11:01.462171Z"
    }
   },
   "outputs": [],
   "source": [
    "# 将Test中的所有正常图片移动到指定位置\n",
    "train_normal = os.listdir(f\"{class_number}/Test\")\n",
    "train_normal_target = f\"{out_put_dir}/test/normal/image\"\n",
    "for image_ in train_normal:\n",
    "    label_path = f\"{class_number}/Test/{image_}\"\n",
    "    target_path = os.path.join(train_normal_target,image_)\n",
    "#     print(f\"label_path:{label_path}\")\n",
    "#     print(f\"target_path:{target_path}\")\n",
    "    shutil.move(label_path,target_path)"
   ]
  },
  {
   "cell_type": "code",
   "execution_count": 15,
   "id": "2262baad",
   "metadata": {
    "ExecuteTime": {
     "end_time": "2022-02-18T00:11:03.451170Z",
     "start_time": "2022-02-18T00:11:03.439172Z"
    }
   },
   "outputs": [
    {
     "name": "stdout",
     "output_type": "stream",
     "text": [
      "文件未删除\n",
      "文件已成功删除\n"
     ]
    }
   ],
   "source": [
    "# 删除源文件\n",
    "if os.path.exists(f\"{class_number}\"):\n",
    "    print(\"文件未删除\")\n",
    "    shutil.rmtree(f\"{class_}\")\n",
    "    print(\"文件已成功删除\")\n",
    "else:\n",
    "    print(\"文件已删除\")"
   ]
  },
  {
   "cell_type": "code",
   "execution_count": null,
   "id": "bf975eb1",
   "metadata": {},
   "outputs": [],
   "source": []
  }
 ],
 "metadata": {
  "kernelspec": {
   "display_name": "NewPaddle",
   "language": "python",
   "name": "newpaddle"
  },
  "language_info": {
   "codemirror_mode": {
    "name": "ipython",
    "version": 3
   },
   "file_extension": ".py",
   "mimetype": "text/x-python",
   "name": "python",
   "nbconvert_exporter": "python",
   "pygments_lexer": "ipython3",
   "version": "3.9.0"
  },
  "toc": {
   "base_numbering": 1,
   "nav_menu": {},
   "number_sections": true,
   "sideBar": true,
   "skip_h1_title": false,
   "title_cell": "Table of Contents",
   "title_sidebar": "Contents",
   "toc_cell": false,
   "toc_position": {},
   "toc_section_display": true,
   "toc_window_display": false
  }
 },
 "nbformat": 4,
 "nbformat_minor": 5
}
