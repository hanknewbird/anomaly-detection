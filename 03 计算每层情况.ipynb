{
 "cells": [
  {
   "cell_type": "code",
   "execution_count": 19,
   "id": "272dfaad",
   "metadata": {
    "ExecuteTime": {
     "end_time": "2022-02-20T04:29:53.118829Z",
     "start_time": "2022-02-20T04:29:53.103834Z"
    }
   },
   "outputs": [],
   "source": [
    "def compute_fun(input_shape,in_channels,out_channels,kernel_size,stride,padding):\n",
    "    compute_final = (input_shape - kernel_size[0] + padding + stride[0])/stride[0]\n",
    "    \n",
    "    string = f\"({input_shape} - {kernel_size[0]} + {padding} + {stride[0]})/{stride[0]}={compute_final}\"\n",
    "    print(string)\n",
    "    \n",
    "    return compute_final"
   ]
  },
  {
   "cell_type": "code",
   "execution_count": 24,
   "id": "0476044a",
   "metadata": {
    "ExecuteTime": {
     "end_time": "2022-02-20T04:31:45.748255Z",
     "start_time": "2022-02-20T04:31:45.723227Z"
    }
   },
   "outputs": [
    {
     "name": "stdout",
     "output_type": "stream",
     "text": [
      "input_shape:512\n",
      "(512 - 11 + 5 + 1)/1=507.0\n",
      "conv1:507.0\n",
      "(507.0 - 9 + 4 + 2)/2=252.0\n",
      "conv2:252.0\n",
      "(252.0 - 7 + 3 + 2)/2=125.0\n",
      "conv2:125.0\n",
      "(125.0 - 5 + 2 + 2)/2=62.0\n",
      "conv2:62.0\n",
      "(62.0 - 3 + 1 + 2)/2=31.0\n",
      "conv2:31.0\n"
     ]
    }
   ],
   "source": [
    "image_input_shape=512\n",
    "\n",
    "print(f\"input_shape:{image_input_shape}\")\n",
    "\n",
    "conv1 = compute_fun(image_input_shape,1, 48, (11, 11), stride=(1, 1), padding=5)\n",
    "print(f\"conv1:{conv1}\")\n",
    "\n",
    "conv2 = compute_fun(conv1,48, 48, (9, 9), stride=(2, 2), padding=4)\n",
    "print(f\"conv2:{conv2}\")\n",
    "\n",
    "conv3 = compute_fun(conv2,48, 48, (7, 7), stride=(2, 2), padding=3)\n",
    "print(f\"conv2:{conv3}\")\n",
    "\n",
    "conv4 = compute_fun(conv3,48, 48, (5, 5), stride=(2, 2), padding=2)\n",
    "print(f\"conv2:{conv4}\")\n",
    "\n",
    "conv5 = compute_fun(conv4,48, 48, (3, 3), stride=(2, 2), padding=1)\n",
    "print(f\"conv2:{conv5}\")"
   ]
  },
  {
   "cell_type": "code",
   "execution_count": 36,
   "id": "c43b206c",
   "metadata": {
    "ExecuteTime": {
     "end_time": "2022-02-20T05:04:02.815773Z",
     "start_time": "2022-02-20T05:04:02.786757Z"
    }
   },
   "outputs": [
    {
     "name": "stdout",
     "output_type": "stream",
     "text": [
      "input_shape:512\n",
      "(input_shape - kernel_size[0] + padding + stride[0])/stride[0]\n",
      "(512 - 3 + 2 + 1)/1=512.0\n",
      "conv1:512.0\n",
      "(512.0 - 3 + 0 + 2)/2=255.5\n",
      "conv2:255.5\n",
      "(255.5 - 3 + 0 + 2)/2=127.25\n",
      "conv3:127.25\n",
      "(127.25 - 3 + 0 + 2)/2=63.125\n",
      "conv4:63.125\n",
      "(63.125 - 3 + 0 + 2)/2=31.0625\n",
      "conv5:31.0625\n"
     ]
    }
   ],
   "source": [
    "image_input_shape=512\n",
    "\n",
    "print(f\"input_shape:{image_input_shape}\")\n",
    "\n",
    "print(\"(input_shape - kernel_size[0] + padding + stride[0])/stride[0]\")\n",
    "\n",
    "conv1 = compute_fun(image_input_shape,1, 128, (3, 3), stride=(1, 1), padding=2)\n",
    "print(f\"conv1:{conv1}\")\n",
    "\n",
    "conv2 = compute_fun(conv1,128, 128, (3, 3), stride=(2, 2), padding=0)\n",
    "print(f\"conv2:{conv2}\")\n",
    "\n",
    "conv3 = compute_fun(conv2,128, 128, (3, 3), stride=(2, 2), padding=0)\n",
    "print(f\"conv3:{conv3}\")\n",
    "\n",
    "conv4 = compute_fun(conv3,128, 128, (3, 3), stride=(2, 2), padding=0)\n",
    "print(f\"conv4:{conv4}\")\n",
    "\n",
    "conv5 = compute_fun(conv4,128, 128, (3, 3), stride=(2, 2), padding=0)\n",
    "print(f\"conv5:{conv5}\")"
   ]
  },
  {
   "cell_type": "code",
   "execution_count": null,
   "id": "73011a8b",
   "metadata": {},
   "outputs": [],
   "source": []
  },
  {
   "cell_type": "code",
   "execution_count": null,
   "id": "a19aea2d",
   "metadata": {},
   "outputs": [],
   "source": []
  },
  {
   "cell_type": "code",
   "execution_count": null,
   "id": "b6bfec5e",
   "metadata": {},
   "outputs": [],
   "source": []
  },
  {
   "cell_type": "code",
   "execution_count": null,
   "id": "fd553099",
   "metadata": {},
   "outputs": [],
   "source": []
  }
 ],
 "metadata": {
  "kernelspec": {
   "display_name": "NewPaddle",
   "language": "python",
   "name": "newpaddle"
  },
  "language_info": {
   "codemirror_mode": {
    "name": "ipython",
    "version": 3
   },
   "file_extension": ".py",
   "mimetype": "text/x-python",
   "name": "python",
   "nbconvert_exporter": "python",
   "pygments_lexer": "ipython3",
   "version": "3.9.0"
  },
  "toc": {
   "base_numbering": 1,
   "nav_menu": {},
   "number_sections": true,
   "sideBar": true,
   "skip_h1_title": false,
   "title_cell": "Table of Contents",
   "title_sidebar": "Contents",
   "toc_cell": false,
   "toc_position": {},
   "toc_section_display": true,
   "toc_window_display": false
  }
 },
 "nbformat": 4,
 "nbformat_minor": 5
}
