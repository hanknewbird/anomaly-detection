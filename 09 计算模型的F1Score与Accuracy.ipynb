{
 "cells": [
  {
   "cell_type": "code",
   "execution_count": 65,
   "id": "0a358ec6",
   "metadata": {
    "ExecuteTime": {
     "end_time": "2022-03-06T12:35:08.216839Z",
     "start_time": "2022-03-06T12:35:08.204840Z"
    }
   },
   "outputs": [],
   "source": [
    "from model_plus import NewNet\n",
    "from PIL import Image\n",
    "import torch\n",
    "from torchvision.transforms import Compose, Grayscale, ToTensor\n",
    "import matplotlib.pyplot as plt\n",
    "import cv2\n",
    "import numpy as np\n",
    "from sklearn.metrics import f1_score\n",
    "import time\n",
    "from sklearn.metrics import accuracy_score\n",
    "\n",
    "%matplotlib inline"
   ]
  },
  {
   "cell_type": "code",
   "execution_count": 38,
   "id": "8d14c741",
   "metadata": {
    "ExecuteTime": {
     "end_time": "2022-03-06T11:17:08.825660Z",
     "start_time": "2022-03-06T11:17:08.815625Z"
    }
   },
   "outputs": [
    {
     "name": "stdout",
     "output_type": "stream",
     "text": [
      "spend:0.019499999931867934ms\n"
     ]
    }
   ],
   "source": [
    "start_time = time.perf_counter() \n",
    "end_time = time.perf_counter() \n",
    "print(f'spend:{((end_time - start_time)*1000)-0.03}ms')"
   ]
  },
  {
   "cell_type": "markdown",
   "id": "65761979",
   "metadata": {},
   "source": [
    "# F1-Score ACC"
   ]
  },
  {
   "cell_type": "code",
   "execution_count": 80,
   "id": "d025552a",
   "metadata": {
    "ExecuteTime": {
     "end_time": "2022-03-06T13:00:31.059830Z",
     "start_time": "2022-03-06T13:00:30.074773Z"
    }
   },
   "outputs": [
    {
     "name": "stdout",
     "output_type": "stream",
     "text": [
      "DAGM3，在阈值设置为0.004时，F1-Score=0.59851,acc=0.42705\n",
      "DAGM3，在阈值设置为0.005时，F1-Score=0.92571,acc=0.86170\n",
      "DAGM3，在阈值设置为0.006时，F1-Score=0.99110,acc=0.98236\n",
      "DAGM3，在阈值设置为0.007时，F1-Score=0.99861,acc=0.99722\n",
      "DAGM3，在阈值设置为0.008时，F1-Score=0.99971,acc=0.99942\n"
     ]
    }
   ],
   "source": [
    "Threshold = [0.004,0.005,0.006,0.007,0.008]\n",
    "Epoch = 50\n",
    "Class = '3'\n",
    "\n",
    "# 指定网络\n",
    "model = NewNet()\n",
    "# 指定模型\n",
    "model.load_state_dict(torch.load(f'./epoch{Epoch}_DAGM_model/DAGM{Class}_best_model.pt'))\n",
    "# 验证模式\n",
    "model.eval()\n",
    "# 指定GPU进行运算\n",
    "model = model.to('cuda')\n",
    "# 指定图片\n",
    "imgpath = f\"./image/Class{Class}/img1.PNG\"\n",
    "# 载入灰度图\n",
    "img = Image.open(imgpath).convert('L')\n",
    "# 以tensor格式的灰度图模式进行验证\n",
    "transform = Compose([Grayscale(), ToTensor()])\n",
    "\n",
    "# 传入图像\n",
    "X = transform(img).to('cuda').unsqueeze(0)\n",
    "\n",
    "EDX = model(X)\n",
    "\n",
    "img_cpu = X.detach().cpu().numpy()[0][0]\n",
    "EDX_cpu = EDX[0][0].detach().cpu().numpy()\n",
    "\n",
    "for threshold in Threshold:\n",
    "    S = abs(img_cpu-EDX_cpu) <= threshold\n",
    "    S_ture = np.ones_like(S)\n",
    "\n",
    "    # 计算F1-Score\n",
    "    F1_score = f1_score(S_ture,S,average='micro')\n",
    "\n",
    "    # 计算ACC\n",
    "\n",
    "    X_array = np.array(img_cpu).flatten()\n",
    "    EDX_array = np.array(EDX_cpu).flatten()\n",
    "\n",
    "    acc_pred = abs(X_array - EDX_array) <= threshold\n",
    "    acc_true = np.ones_like(acc_pred)\n",
    "\n",
    "    acc = accuracy_score(acc_true,acc_pred,normalize=True)\n",
    "\n",
    "    print(f\"DAGM{Class}，在阈值设置为{threshold}时，F1-Score={F1_score:.5f},acc={acc:.5f}\")"
   ]
  },
  {
   "cell_type": "code",
   "execution_count": 79,
   "id": "b57d4b83",
   "metadata": {
    "ExecuteTime": {
     "end_time": "2022-03-06T12:59:04.985521Z",
     "start_time": "2022-03-06T12:59:04.083331Z"
    }
   },
   "outputs": [
    {
     "name": "stdout",
     "output_type": "stream",
     "text": [
      "DAGM6，在阈值设置为0.004时，F1-Score=0.87315,acc=0.77486\n",
      "DAGM6，在阈值设置为0.005时，F1-Score=0.94377,acc=0.89352\n",
      "DAGM6，在阈值设置为0.006时，F1-Score=0.98490,acc=0.97026\n",
      "DAGM6，在阈值设置为0.007时，F1-Score=0.99506,acc=0.99017\n",
      "DAGM6，在阈值设置为0.008时，F1-Score=0.99752,acc=0.99505\n"
     ]
    }
   ],
   "source": [
    "Threshold = [0.004,0.005,0.006,0.007,0.008]\n",
    "Epoch = 50\n",
    "Class = '6'\n",
    "\n",
    "# 指定网络\n",
    "model = NewNet()\n",
    "# 指定模型\n",
    "model.load_state_dict(torch.load(f'./epoch{Epoch}_DAGM_model/DAGM{Class}_best_model.pt'))\n",
    "# 验证模式\n",
    "model.eval()\n",
    "# 指定GPU进行运算\n",
    "model = model.to('cuda')\n",
    "# 指定图片\n",
    "imgpath = f\"./image/Class{Class}/img1.PNG\"\n",
    "# 载入灰度图\n",
    "img = Image.open(imgpath).convert('L')\n",
    "# 以tensor格式的灰度图模式进行验证\n",
    "transform = Compose([Grayscale(), ToTensor()])\n",
    "\n",
    "# 传入图像\n",
    "X = transform(img).to('cuda').unsqueeze(0)\n",
    "\n",
    "EDX = model(X)\n",
    "\n",
    "img_cpu = X.detach().cpu().numpy()[0][0]\n",
    "EDX_cpu = EDX[0][0].detach().cpu().numpy()\n",
    "\n",
    "for threshold in Threshold:\n",
    "    S = abs(img_cpu-EDX_cpu) <= threshold\n",
    "    S_ture = np.ones_like(S)\n",
    "\n",
    "    # 计算F1-Score\n",
    "    F1_score = f1_score(S_ture,S,average='micro')\n",
    "\n",
    "    # 计算ACC\n",
    "\n",
    "    X_array = np.array(img_cpu).flatten()\n",
    "    EDX_array = np.array(EDX_cpu).flatten()\n",
    "\n",
    "    acc_pred = abs(X_array - EDX_array) <= threshold\n",
    "    acc_true = np.ones_like(acc_pred)\n",
    "\n",
    "    acc = accuracy_score(acc_true,acc_pred,normalize=True)\n",
    "\n",
    "    print(f\"DAGM{Class}，在阈值设置为{threshold}时，F1-Score={F1_score:.5f},acc={acc:.5f}\")"
   ]
  },
  {
   "cell_type": "code",
   "execution_count": 81,
   "id": "8fc1ac27",
   "metadata": {
    "ExecuteTime": {
     "end_time": "2022-03-06T13:02:29.955452Z",
     "start_time": "2022-03-06T13:02:29.208451Z"
    }
   },
   "outputs": [
    {
     "name": "stdout",
     "output_type": "stream",
     "text": [
      "DAGM8，在阈值设置为0.004时，F1-Score=0.95557,acc=0.91492\n",
      "DAGM8，在阈值设置为0.005时，F1-Score=0.98691,acc=0.97416\n",
      "DAGM8，在阈值设置为0.006时，F1-Score=0.99573,acc=0.99150\n",
      "DAGM8，在阈值设置为0.007时，F1-Score=0.99853,acc=0.99706\n",
      "DAGM8，在阈值设置为0.008时，F1-Score=0.99936,acc=0.99872\n"
     ]
    }
   ],
   "source": [
    "Threshold = [0.004,0.005,0.006,0.007,0.008]\n",
    "Epoch = 50\n",
    "Class = '8'\n",
    "\n",
    "# 指定网络\n",
    "model = NewNet()\n",
    "# 指定模型\n",
    "model.load_state_dict(torch.load(f'./epoch{Epoch}_DAGM_model/DAGM{Class}_best_model.pt'))\n",
    "# 验证模式\n",
    "model.eval()\n",
    "# 指定GPU进行运算\n",
    "model = model.to('cuda')\n",
    "# 指定图片\n",
    "imgpath = f\"./image/Class{Class}/img1.PNG\"\n",
    "# 载入灰度图\n",
    "img = Image.open(imgpath).convert('L')\n",
    "# 以tensor格式的灰度图模式进行验证\n",
    "transform = Compose([Grayscale(), ToTensor()])\n",
    "\n",
    "# 传入图像\n",
    "X = transform(img).to('cuda').unsqueeze(0)\n",
    "\n",
    "EDX = model(X)\n",
    "\n",
    "img_cpu = X.detach().cpu().numpy()[0][0]\n",
    "EDX_cpu = EDX[0][0].detach().cpu().numpy()\n",
    "\n",
    "for threshold in Threshold:\n",
    "    S = abs(img_cpu-EDX_cpu) <= threshold\n",
    "    S_ture = np.ones_like(S)\n",
    "\n",
    "    # 计算F1-Score\n",
    "    F1_score = f1_score(S_ture,S,average='micro')\n",
    "\n",
    "    # 计算ACC\n",
    "\n",
    "    X_array = np.array(img_cpu).flatten()\n",
    "    EDX_array = np.array(EDX_cpu).flatten()\n",
    "\n",
    "    acc_pred = abs(X_array - EDX_array) <= threshold\n",
    "    acc_true = np.ones_like(acc_pred)\n",
    "\n",
    "    acc = accuracy_score(acc_true,acc_pred,normalize=True)\n",
    "\n",
    "    print(f\"DAGM{Class}，在阈值设置为{threshold}时，F1-Score={F1_score:.5f},acc={acc:.5f}\")"
   ]
  },
  {
   "cell_type": "code",
   "execution_count": 82,
   "id": "b9f40d56",
   "metadata": {
    "ExecuteTime": {
     "end_time": "2022-03-06T13:03:28.809118Z",
     "start_time": "2022-03-06T13:03:28.054111Z"
    }
   },
   "outputs": [
    {
     "name": "stdout",
     "output_type": "stream",
     "text": [
      "DAGM9，在阈值设置为0.004时，F1-Score=0.83312,acc=0.71398\n",
      "DAGM9，在阈值设置为0.005时，F1-Score=0.94008,acc=0.88694\n",
      "DAGM9，在阈值设置为0.006时，F1-Score=0.98393,acc=0.96838\n",
      "DAGM9，在阈值设置为0.007时，F1-Score=0.99601,acc=0.99206\n",
      "DAGM9，在阈值设置为0.008时，F1-Score=0.99877,acc=0.99754\n"
     ]
    }
   ],
   "source": [
    "Threshold = [0.004,0.005,0.006,0.007,0.008]\n",
    "Epoch = 50\n",
    "Class = '9'\n",
    "\n",
    "# 指定网络\n",
    "model = NewNet()\n",
    "# 指定模型\n",
    "model.load_state_dict(torch.load(f'./epoch{Epoch}_DAGM_model/DAGM{Class}_best_model.pt'))\n",
    "# 验证模式\n",
    "model.eval()\n",
    "# 指定GPU进行运算\n",
    "model = model.to('cuda')\n",
    "# 指定图片\n",
    "imgpath = f\"./image/Class{Class}/img1.PNG\"\n",
    "# 载入灰度图\n",
    "img = Image.open(imgpath).convert('L')\n",
    "# 以tensor格式的灰度图模式进行验证\n",
    "transform = Compose([Grayscale(), ToTensor()])\n",
    "\n",
    "# 传入图像\n",
    "X = transform(img).to('cuda').unsqueeze(0)\n",
    "\n",
    "EDX = model(X)\n",
    "\n",
    "img_cpu = X.detach().cpu().numpy()[0][0]\n",
    "EDX_cpu = EDX[0][0].detach().cpu().numpy()\n",
    "\n",
    "for threshold in Threshold:\n",
    "    S = abs(img_cpu-EDX_cpu) <= threshold\n",
    "    S_ture = np.ones_like(S)\n",
    "\n",
    "    # 计算F1-Score\n",
    "    F1_score = f1_score(S_ture,S,average='micro')\n",
    "\n",
    "    # 计算ACC\n",
    "\n",
    "    X_array = np.array(img_cpu).flatten()\n",
    "    EDX_array = np.array(EDX_cpu).flatten()\n",
    "\n",
    "    acc_pred = abs(X_array - EDX_array) <= threshold\n",
    "    acc_true = np.ones_like(acc_pred)\n",
    "\n",
    "    acc = accuracy_score(acc_true,acc_pred,normalize=True)\n",
    "\n",
    "    print(f\"DAGM{Class}，在阈值设置为{threshold}时，F1-Score={F1_score:.5f},acc={acc:.5f}\")"
   ]
  }
 ],
 "metadata": {
  "kernelspec": {
   "display_name": "NewPaddle",
   "language": "python",
   "name": "newpaddle"
  },
  "language_info": {
   "codemirror_mode": {
    "name": "ipython",
    "version": 3
   },
   "file_extension": ".py",
   "mimetype": "text/x-python",
   "name": "python",
   "nbconvert_exporter": "python",
   "pygments_lexer": "ipython3",
   "version": "3.9.0"
  },
  "toc": {
   "base_numbering": 1,
   "nav_menu": {},
   "number_sections": true,
   "sideBar": true,
   "skip_h1_title": false,
   "title_cell": "Table of Contents",
   "title_sidebar": "Contents",
   "toc_cell": false,
   "toc_position": {},
   "toc_section_display": true,
   "toc_window_display": false
  }
 },
 "nbformat": 4,
 "nbformat_minor": 5
}
