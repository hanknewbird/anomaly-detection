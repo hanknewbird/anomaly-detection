{
 "cells": [
  {
   "cell_type": "code",
   "execution_count": 2,
   "id": "37ac5b4b",
   "metadata": {
    "ExecuteTime": {
     "end_time": "2022-02-27T02:17:08.838361Z",
     "start_time": "2022-02-27T02:17:06.128589Z"
    }
   },
   "outputs": [],
   "source": [
    "from model_plus import NewNet\n",
    "from PIL import Image\n",
    "import torch\n",
    "from torchvision.transforms import Compose, Grayscale, ToTensor\n",
    "import matplotlib.pyplot as plt\n",
    "import cv2\n",
    "import numpy as np\n",
    "from sklearn.metrics import f1_score\n",
    "%matplotlib inline"
   ]
  },
  {
   "cell_type": "code",
   "execution_count": 75,
   "id": "9a6c7711",
   "metadata": {
    "ExecuteTime": {
     "end_time": "2022-02-27T07:04:32.006931Z",
     "start_time": "2022-02-27T07:04:31.359757Z"
    }
   },
   "outputs": [],
   "source": [
    "model = NewNet()\n",
    "model.load_state_dict(torch.load('./model/NewNet_model_Class6.pt'))\n",
    "model.eval()\n",
    "model = model.to('cuda')\n",
    "imgpath = \"./image/Class6/img1.PNG\"\n",
    "img = Image.open(imgpath).convert('L')\n",
    "transform = Compose([Grayscale(), ToTensor()])\n",
    "img = transform(img)\n",
    "img = img.to('cuda')\n",
    "img = img.unsqueeze(0)\n",
    "EDX = model(img)\n",
    "residual = torch.abs(img[0][0]-EDX[0][0])"
   ]
  },
  {
   "cell_type": "code",
   "execution_count": 76,
   "id": "f8716e95",
   "metadata": {
    "ExecuteTime": {
     "end_time": "2022-02-27T07:04:32.808339Z",
     "start_time": "2022-02-27T07:04:32.790313Z"
    }
   },
   "outputs": [],
   "source": [
    "x = img.detach().cpu().numpy()[0][0]\n",
    "EDX = EDX[0][0].detach().cpu().numpy()"
   ]
  },
  {
   "cell_type": "code",
   "execution_count": 12,
   "id": "759f0a72",
   "metadata": {
    "ExecuteTime": {
     "end_time": "2022-02-27T02:23:18.309293Z",
     "start_time": "2022-02-27T02:23:18.292291Z"
    }
   },
   "outputs": [
    {
     "data": {
      "text/plain": [
       "array([0.14509805, 0.09019608, 0.15294118, ..., 1.        , 0.9490196 ,\n",
       "       0.69803923], dtype=float32)"
      ]
     },
     "execution_count": 12,
     "metadata": {},
     "output_type": "execute_result"
    }
   ],
   "source": [
    "x_array = np.array(x).flatten()\n",
    "x_array"
   ]
  },
  {
   "cell_type": "code",
   "execution_count": 13,
   "id": "06402324",
   "metadata": {
    "ExecuteTime": {
     "end_time": "2022-02-27T02:23:29.136607Z",
     "start_time": "2022-02-27T02:23:29.124621Z"
    }
   },
   "outputs": [
    {
     "data": {
      "text/plain": [
       "array([0.14831387, 0.10010412, 0.1558493 , ..., 0.981443  , 0.9397709 ,\n",
       "       0.6902612 ], dtype=float32)"
      ]
     },
     "execution_count": 13,
     "metadata": {},
     "output_type": "execute_result"
    }
   ],
   "source": [
    "EDX_array = np.array(EDX).flatten()\n",
    "EDX_array"
   ]
  },
  {
   "cell_type": "code",
   "execution_count": 78,
   "id": "1a79fa7a",
   "metadata": {
    "ExecuteTime": {
     "end_time": "2022-02-27T07:04:39.843191Z",
     "start_time": "2022-02-27T07:04:39.750190Z"
    }
   },
   "outputs": [
    {
     "data": {
      "text/plain": [
       "0.9900831968337103"
      ]
     },
     "execution_count": 78,
     "metadata": {},
     "output_type": "execute_result"
    }
   ],
   "source": [
    "# F1score\n",
    "abs_pred = abs(x - EDX)<=0.008\n",
    "abs_true = np.ones_like(abs_pred)\n",
    "f1_score(abs_true, abs_pred, average='macro')"
   ]
  },
  {
   "cell_type": "code",
   "execution_count": 100,
   "id": "06e959a0",
   "metadata": {
    "ExecuteTime": {
     "end_time": "2022-02-27T09:38:46.405926Z",
     "start_time": "2022-02-27T09:38:46.381926Z"
    }
   },
   "outputs": [
    {
     "data": {
      "text/plain": [
       "0.8466339111328125"
      ]
     },
     "execution_count": 100,
     "metadata": {},
     "output_type": "execute_result"
    }
   ],
   "source": [
    "# acc\n",
    "from sklearn.metrics import accuracy_score\n",
    "\n",
    "abs_pred = abs(x_array - EDX_array)<=0.004\n",
    "abs_true = np.ones_like(abs_pred)\n",
    "# 如果normalize为True，返回正确分类的得分（浮点型），否则返回分类正确的样本数量（整型）\n",
    "accuracy_score(abs_true, abs_pred, normalize=True)"
   ]
  },
  {
   "cell_type": "code",
   "execution_count": 67,
   "id": "06fd1eb7",
   "metadata": {
    "ExecuteTime": {
     "end_time": "2022-02-27T07:01:27.938378Z",
     "start_time": "2022-02-27T07:01:27.844381Z"
    }
   },
   "outputs": [
    {
     "name": "stdout",
     "output_type": "stream",
     "text": [
      "1.0\n"
     ]
    }
   ],
   "source": [
    "# 精确率\n",
    "from sklearn.metrics import precision_score\n",
    "\n",
    "abs_pred = abs(x - EDX)<=0.002\n",
    "abs_true = np.ones_like(abs_pred)\n",
    "print(precision_score(abs_true, abs_pred, average='macro'))\n",
    "# print(precision_score(abs_true, abs_pred, average='micro'))\n",
    "# print(precision_score(abs_true, abs_pred, average='weighted'))\n",
    "# print(precision_score(abs_true, abs_pred, average=None))"
   ]
  },
  {
   "cell_type": "code",
   "execution_count": 92,
   "id": "ec821220",
   "metadata": {
    "ExecuteTime": {
     "end_time": "2022-02-27T09:35:46.299231Z",
     "start_time": "2022-02-27T09:35:46.288216Z"
    }
   },
   "outputs": [
    {
     "data": {
      "text/plain": [
       "array([[ True, False,  True, ...,  True, False,  True],\n",
       "       [False,  True,  True, ...,  True,  True,  True],\n",
       "       [ True,  True,  True, ...,  True,  True, False],\n",
       "       ...,\n",
       "       [ True,  True,  True, ...,  True,  True,  True],\n",
       "       [False,  True,  True, ...,  True,  True,  True],\n",
       "       [ True,  True, False, ..., False, False,  True]])"
      ]
     },
     "execution_count": 92,
     "metadata": {},
     "output_type": "execute_result"
    }
   ],
   "source": [
    "abs(x - EDX)<=0.008"
   ]
  },
  {
   "cell_type": "code",
   "execution_count": 95,
   "id": "116fd153",
   "metadata": {
    "ExecuteTime": {
     "end_time": "2022-02-27T09:37:11.099628Z",
     "start_time": "2022-02-27T09:37:11.093603Z"
    }
   },
   "outputs": [
    {
     "data": {
      "text/plain": [
       "array([0.14509805, 0.09019608, 0.15294118, ..., 1.        , 0.9490196 ,\n",
       "       0.69803923], dtype=float32)"
      ]
     },
     "execution_count": 95,
     "metadata": {},
     "output_type": "execute_result"
    }
   ],
   "source": [
    "x_array"
   ]
  },
  {
   "cell_type": "code",
   "execution_count": 96,
   "id": "1da89f8f",
   "metadata": {
    "ExecuteTime": {
     "end_time": "2022-02-27T09:37:25.925174Z",
     "start_time": "2022-02-27T09:37:25.910148Z"
    }
   },
   "outputs": [
    {
     "data": {
      "text/plain": [
       "array([0.14831387, 0.10010412, 0.1558493 , ..., 0.981443  , 0.9397709 ,\n",
       "       0.6902612 ], dtype=float32)"
      ]
     },
     "execution_count": 96,
     "metadata": {},
     "output_type": "execute_result"
    }
   ],
   "source": [
    "EDX_array"
   ]
  },
  {
   "cell_type": "code",
   "execution_count": null,
   "id": "6a8f7736",
   "metadata": {},
   "outputs": [],
   "source": []
  }
 ],
 "metadata": {
  "kernelspec": {
   "display_name": "NewPaddle",
   "language": "python",
   "name": "newpaddle"
  },
  "language_info": {
   "codemirror_mode": {
    "name": "ipython",
    "version": 3
   },
   "file_extension": ".py",
   "mimetype": "text/x-python",
   "name": "python",
   "nbconvert_exporter": "python",
   "pygments_lexer": "ipython3",
   "version": "3.9.0"
  },
  "toc": {
   "base_numbering": 1,
   "nav_menu": {},
   "number_sections": true,
   "sideBar": true,
   "skip_h1_title": false,
   "title_cell": "Table of Contents",
   "title_sidebar": "Contents",
   "toc_cell": false,
   "toc_position": {},
   "toc_section_display": true,
   "toc_window_display": false
  }
 },
 "nbformat": 4,
 "nbformat_minor": 5
}
