{
 "cells": [
  {
   "cell_type": "code",
   "execution_count": 1,
   "id": "93785be9",
   "metadata": {
    "ExecuteTime": {
     "end_time": "2022-03-06T15:17:43.374937Z",
     "start_time": "2022-03-06T15:17:41.027937Z"
    }
   },
   "outputs": [],
   "source": [
    "from model_plus import NewNet\n",
    "from PIL import Image\n",
    "import torch\n",
    "from torchvision.transforms import Compose, Grayscale, ToTensor\n",
    "import matplotlib.pyplot as plt\n",
    "import cv2\n",
    "import numpy as np\n",
    "import time\n",
    "\n",
    "%matplotlib inline"
   ]
  },
  {
   "cell_type": "markdown",
   "id": "36ac1ec3",
   "metadata": {},
   "source": [
    "# FPS"
   ]
  },
  {
   "cell_type": "code",
   "execution_count": 2,
   "id": "c8a26e52",
   "metadata": {
    "ExecuteTime": {
     "end_time": "2022-03-06T15:17:45.852956Z",
     "start_time": "2022-03-06T15:17:43.378948Z"
    }
   },
   "outputs": [],
   "source": [
    "Threshold = 0.008\n",
    "Class = '6'\n",
    "\n",
    "# 指定网络\n",
    "model = NewNet()\n",
    "# 指定模型\n",
    "model.load_state_dict(torch.load(f'./epoch20_DAGM_model/DAGM{Class}_best_model.pt'))\n",
    "# 验证模式\n",
    "model.eval()\n",
    "# 指定GPU进行运算\n",
    "model = model.to('cuda')\n",
    "# 指定图片\n",
    "imgpath = f\"./image/Class{Class}/img1.PNG\"\n",
    "# 载入灰度图\n",
    "img = Image.open(imgpath).convert('L')\n",
    "# 以tensor格式的灰度图模式进行验证\n",
    "transform = Compose([Grayscale(), ToTensor()])\n",
    "\n",
    "# 传入图像\n",
    "X = transform(img).to('cuda').unsqueeze(0)"
   ]
  },
  {
   "cell_type": "code",
   "execution_count": 32,
   "id": "3157052d",
   "metadata": {
    "ExecuteTime": {
     "end_time": "2022-03-06T17:45:12.052584Z",
     "start_time": "2022-03-06T17:45:11.038585Z"
    }
   },
   "outputs": [
    {
     "name": "stdout",
     "output_type": "stream",
     "text": [
      "DAGM6经过26次运算，花费996.8277999996644ms\n"
     ]
    }
   ],
   "source": [
    "LoopNumber = 26\n",
    "# 计时\n",
    "start_time = time.perf_counter()\n",
    "\n",
    "for i in range(LoopNumber):\n",
    "    EDX = model(X)\n",
    "    S = torch.abs(X[0][0]-EDX[0][0])\n",
    "    S_threshold = S.detach().cpu().numpy()\n",
    "    \n",
    "    ret, thresh_basic = cv2.threshold(S_threshold, Threshold, 255, cv2.THRESH_BINARY)\n",
    "    \n",
    "    kernel = np.ones((3, 3), np.uint8)\n",
    "    img_erosion = cv2.dilate(thresh_basic, kernel, iterations=1)\n",
    "    \n",
    "    img_median = cv2.medianBlur(img_erosion, 5)\n",
    "    \n",
    "    edged = cv2.Canny((img_median*255).astype(np.uint8),1,0)\n",
    "    \n",
    "    img_original = X.detach().cpu().numpy()[0][0]\n",
    "    imageOri = cv2.cvtColor(img_original, cv2.COLOR_GRAY2BGR)\n",
    "    imageOri = np.power(imageOri, 3)\n",
    "    \n",
    "    thresh_inv_uint8 = img_median.astype(np.uint8)\n",
    "    contours, h = cv2.findContours(thresh_inv_uint8, cv2.RETR_EXTERNAL, cv2.CHAIN_APPROX_NONE)\n",
    "    highlighted_img = cv2.drawContours(imageOri, contours, -1, (255, 0, 0), 3)\n",
    "\n",
    "end_time = time.perf_counter()\n",
    "\n",
    "print(f\"DAGM{Class}经过{LoopNumber}次运算，花费{((time.perf_counter() - start_time)*1000)}ms\")"
   ]
  },
  {
   "cell_type": "code",
   "execution_count": null,
   "id": "240c2eb0",
   "metadata": {
    "ExecuteTime": {
     "end_time": "2022-03-06T15:17:46.974937Z",
     "start_time": "2022-03-06T15:17:46.962938Z"
    }
   },
   "outputs": [],
   "source": []
  },
  {
   "cell_type": "code",
   "execution_count": null,
   "id": "68ff567a",
   "metadata": {},
   "outputs": [],
   "source": []
  }
 ],
 "metadata": {
  "kernelspec": {
   "display_name": "NewPaddle",
   "language": "python",
   "name": "newpaddle"
  },
  "language_info": {
   "codemirror_mode": {
    "name": "ipython",
    "version": 3
   },
   "file_extension": ".py",
   "mimetype": "text/x-python",
   "name": "python",
   "nbconvert_exporter": "python",
   "pygments_lexer": "ipython3",
   "version": "3.9.0"
  },
  "toc": {
   "base_numbering": 1,
   "nav_menu": {},
   "number_sections": true,
   "sideBar": true,
   "skip_h1_title": false,
   "title_cell": "Table of Contents",
   "title_sidebar": "Contents",
   "toc_cell": false,
   "toc_position": {},
   "toc_section_display": true,
   "toc_window_display": false
  }
 },
 "nbformat": 4,
 "nbformat_minor": 5
}
